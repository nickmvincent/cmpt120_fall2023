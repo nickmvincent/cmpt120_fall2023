{
  "cells": [
    {
      "cell_type": "raw",
      "metadata": {},
      "source": [
        "---\n",
        "title: CMPT 120 Lecture 5-1\n",
        "date: '2023-10-04'\n",
        "author: Prof. Nick Vincent\n",
        "institute: Simon Fraser University\n",
        "format:\n",
        "  revealjs:\n",
        "    slide-number: true\n",
        "    chalkboard:\n",
        "      buttons: false\n",
        "    theme: solarized\n",
        "---"
      ]
    },
    {
      "cell_type": "markdown",
      "metadata": {},
      "source": [
        "## Quick note for those reading slides\n",
        "There's only one set of slides for week 5 (Monday was a holiday).\n",
        "\n",
        "## 5-1 agenda\n",
        "\n",
        "- Quick set of review questions\n",
        "- Quick review on accumulator pattern\n",
        "- Completing our recommender system example\n",
        "  - Putting together for loops, nested for loops, list slicing, string slicing\n",
        "\n",
        "\n",
        "## Review questions\n",
        "\n",
        "## Question 1a\n",
        "What does this snippet output?"
      ]
    },
    {
      "cell_type": "code",
      "metadata": {
        "output-location": "slide"
      },
      "source": [
        "#| echo: true\n",
        "response = \"I LOVE RAIN!!\"\n",
        "words = response.lower().strip(\"!\").split(\" \")\n",
        "if \"rain\" in words or \"umbrella\" in words:\n",
        "    print(\"You're a fan of the rain?\")"
      ],
      "execution_count": null,
      "outputs": []
    },
    {
      "cell_type": "markdown",
      "metadata": {},
      "source": [
        "## Question 1b"
      ]
    },
    {
      "cell_type": "code",
      "metadata": {
        "output-location": "slide"
      },
      "source": [
        "#| echo: true\n",
        "response = \"I LOVE RAIN!!\"\n",
        "try:\n",
        "    words = response.lower().split(\" \").strip(\"!\")\n",
        "    if \"rain\" in words or \"umbrella\" in words:\n",
        "        print(\"You're a fan of the rain?\")\n",
        "except AttributeError:\n",
        "    print(\"Something went wrong\")"
      ],
      "execution_count": null,
      "outputs": []
    },
    {
      "cell_type": "markdown",
      "metadata": {},
      "source": [
        "## Question 2a\n",
        "What does this output?"
      ]
    },
    {
      "cell_type": "code",
      "metadata": {
        "output-location": "slide"
      },
      "source": [
        "#| echo: true\n",
        "fruits = \"durian, rambutan, lychee\"\n",
        "fruit_list = fruits.split(\",\")\n",
        "print(\"durian\" in fruit_list)\n",
        "print(\"rambutan\" in fruit_list)"
      ],
      "execution_count": null,
      "outputs": []
    },
    {
      "cell_type": "markdown",
      "metadata": {},
      "source": [
        "## Question 2b\n",
        "What does this output?"
      ]
    },
    {
      "cell_type": "code",
      "metadata": {
        "output-location": "slide"
      },
      "source": [
        "#| echo: true\n",
        "fruits = \"durian,rambutan,lychee\".split(\",\")\n",
        "print(fruits[1][0].upper())"
      ],
      "execution_count": null,
      "outputs": []
    },
    {
      "cell_type": "markdown",
      "metadata": {},
      "source": [
        "## Question 3\n",
        "Find three errors with this code:\n",
        "\n",
        "```{.python}\n",
        "z = int(input[\"Give me a number, any number: \"])\n",
        "if z > 5 and <= 10:\n",
        "\tprint(x)\n",
        "```\n",
        "\n",
        "## Question 3 -- answer\n",
        "```{.python}\n",
        "z = int(input(\"Give me a number, any number: \"))\n",
        "if z > 5 and z <= 10:\n",
        "\tprint(z)\n",
        "```\n",
        "\n",
        "\n",
        "## Question 4\n",
        "What does this snippet output?"
      ]
    },
    {
      "cell_type": "code",
      "metadata": {
        "output-location": "slide"
      },
      "source": [
        "#| echo: true\n",
        "letters = ['a', 'b', 'c', 'd', 'e', 'f']\n",
        "print(len(letters))\n",
        "\n",
        "print(letters[1:3])\n",
        "print(letters[:4])\n",
        "print(letters[3:])\n",
        "print(letters[:])\n",
        "print(letters[-1])\n",
        "print(letters[3:-1])"
      ],
      "execution_count": null,
      "outputs": []
    },
    {
      "cell_type": "markdown",
      "metadata": {},
      "source": [
        "## Trick to remember slicing\n",
        "\n",
        "`letters[:4]` will give you 4 total items in your output! It must start at 0... hence you get 0,1,2, and 3.\n",
        "\n",
        "## Accessing characters in strings\n",
        "- Just like accessing items in a list\n",
        "- If you think of strings as a list of characters, you're good to go\n",
        "- (As long as you know how lists work)\n",
        "\n",
        "## Accumulator review\n",
        "\"Go through all the items in a pile and pick out the red ones\""
      ]
    },
    {
      "cell_type": "code",
      "metadata": {},
      "source": [
        "#| echo: true\n",
        "items = [\"red\", \"blue\", \"red\", \"green\"]\n",
        "items_we_grab = []\n",
        "for item in items:\n",
        "    if item == \"red\":\n",
        "        items_we_grab += [item]\n",
        "print(items_we_grab)"
      ],
      "execution_count": null,
      "outputs": []
    },
    {
      "cell_type": "markdown",
      "metadata": {},
      "source": [
        "## Week 5 Learning Objectives\n",
        "\n",
        "\n",
        "## Open + read lines from a file"
      ]
    },
    {
      "cell_type": "code",
      "metadata": {},
      "source": [
        "#| echo: true\n",
        "with open('fake_data.csv', 'r') as file:\n",
        "    lines = file.readlines()\n",
        "    print(len(lines))"
      ],
      "execution_count": null,
      "outputs": []
    },
    {
      "cell_type": "markdown",
      "metadata": {},
      "source": [
        "## Split a string into a list"
      ]
    },
    {
      "cell_type": "code",
      "metadata": {},
      "source": [
        "#| echo: true\n",
        "text = \"Python is fun\"\n",
        "words = text.split()  # ['Python', 'is', 'fun']\n",
        "print(words)"
      ],
      "execution_count": null,
      "outputs": []
    },
    {
      "cell_type": "markdown",
      "metadata": {},
      "source": [
        "## Access specific elements of a list using indexing/slicing"
      ]
    },
    {
      "cell_type": "code",
      "metadata": {},
      "source": [
        "#| echo: true\n",
        "numbers = [1, 2, 3, 4, 5]\n",
        "first_element = numbers[0]    # 1\n",
        "sliced_elements = numbers[1:4]  # [2, 3, 4]"
      ],
      "execution_count": null,
      "outputs": []
    },
    {
      "cell_type": "markdown",
      "metadata": {},
      "source": [
        "## Access specific character in a string using indexing/slicing"
      ]
    },
    {
      "cell_type": "code",
      "metadata": {},
      "source": [
        "#| echo: true\n",
        "text = \"Hello World\"\n",
        "first_char = text[0]  # 'H'\n",
        "sliced_chars = text[6:11]  # 'World'"
      ],
      "execution_count": null,
      "outputs": []
    },
    {
      "cell_type": "markdown",
      "metadata": {},
      "source": [
        "## Perform comparisons between numbers, taking into account order of operators (operator precedence)"
      ]
    },
    {
      "cell_type": "code",
      "metadata": {},
      "source": [
        "#| echo: true\n",
        "result = 2 + 3 * 4 > 10  # Evaluates to 2 + 12 > 10 => 14 > 10 => True\n",
        "print(result)"
      ],
      "execution_count": null,
      "outputs": []
    },
    {
      "cell_type": "markdown",
      "metadata": {},
      "source": [
        "## Perform comparisons (e.g. !=, <,>) with strings"
      ]
    },
    {
      "cell_type": "code",
      "metadata": {},
      "source": [
        "#| echo: true\n",
        "string1 = \"apple\"\n",
        "string2 = \"banana\"\n",
        "print(string1 != string2)  # True\n",
        "print(string1 < string2)   # True, because 'a' comes before 'b' alphabetically"
      ],
      "execution_count": null,
      "outputs": []
    },
    {
      "cell_type": "markdown",
      "metadata": {},
      "source": [
        "## Interpret code with nested conditionals + comparison operators (e.g. !=, <,>=)"
      ]
    },
    {
      "cell_type": "code",
      "metadata": {},
      "source": [
        "#| echo: true\n",
        "x = 5\n",
        "y = 10\n",
        "if x != y:\n",
        "    if x < y:\n",
        "        print(\"x is less than y\")\n",
        "    else:\n",
        "        print(\"x is greater than y\")\n",
        "else:\n",
        "    print(\"x is equal to y\")"
      ],
      "execution_count": null,
      "outputs": []
    },
    {
      "cell_type": "markdown",
      "metadata": {},
      "source": [
        "## Find the common elements between 2 lists"
      ]
    },
    {
      "cell_type": "code",
      "metadata": {},
      "source": [
        "#| echo: true\n",
        "list1 = [1, 2, 3, 4]\n",
        "list2 = [3, 4, 5, 6]\n",
        "common_elements = []\n",
        "for x in list1:\n",
        "    if x in list2:\n",
        "        common_elements.append(x)\n",
        "print(common_elements)  # [3, 4]"
      ],
      "execution_count": null,
      "outputs": []
    },
    {
      "cell_type": "markdown",
      "metadata": {},
      "source": [
        "## Understand + use nested for loops"
      ]
    },
    {
      "cell_type": "code",
      "metadata": {},
      "source": [
        "#| echo: true\n",
        "for i in range(3):\n",
        "    for j in range(2):\n",
        "        print(i, j)"
      ],
      "execution_count": null,
      "outputs": []
    },
    {
      "cell_type": "markdown",
      "metadata": {},
      "source": [
        "## Apply operator order to evaluate expressions"
      ]
    },
    {
      "cell_type": "code",
      "metadata": {},
      "source": [
        "#| echo: true\n",
        "result = 3 + 4 * 2 / (1 - 5)  # Evaluates using operator precedence: multiplication, division, subtraction, addition\n",
        "print(result)"
      ],
      "execution_count": null,
      "outputs": []
    },
    {
      "cell_type": "markdown",
      "metadata": {},
      "source": [
        "## Concatenate lists"
      ]
    },
    {
      "cell_type": "code",
      "metadata": {},
      "source": [
        "#| echo: true\n",
        "list1 = [1, 2, 3]\n",
        "list2 = [4, 5, 6]\n",
        "concatenated_list = list1 + list2\n",
        "print(concatenated_list)  # [1, 2, 3, 4, 5, 6]"
      ],
      "execution_count": null,
      "outputs": []
    },
    {
      "cell_type": "markdown",
      "metadata": {},
      "source": [
        "## Apply accumulation pattern for strings and lists (previously was numbers)"
      ]
    },
    {
      "cell_type": "code",
      "metadata": {},
      "source": [
        "#| echo: true\n",
        "\n",
        "# For strings\n",
        "words = [\"Hello\", \"World\"]\n",
        "sentence = \"\"\n",
        "for word in words:\n",
        "    sentence += word + \" \"\n",
        "print(sentence.strip())  # Hello World\n",
        "\n",
        "# For lists\n",
        "matrix = [[1, 2], [3, 4]]\n",
        "flat_list = []\n",
        "for sublist in matrix:\n",
        "    for item in sublist:\n",
        "        flat_list.append(item)\n",
        "print(flat_list)  # [1, 2, 3, 4]"
      ],
      "execution_count": null,
      "outputs": []
    },
    {
      "cell_type": "markdown",
      "metadata": {},
      "source": [
        "## Calculate the maximum among several values"
      ]
    },
    {
      "cell_type": "code",
      "metadata": {},
      "source": [
        "#| echo: true\n",
        "values = [3, 5, 2, 8, 6]\n",
        "maximum = values[0]\n",
        "for value in values:\n",
        "    if value > maximum:\n",
        "        maximum = value\n",
        "print(maximum)  # 8"
      ],
      "execution_count": null,
      "outputs": []
    },
    {
      "cell_type": "markdown",
      "metadata": {},
      "source": [
        "## Ok, back to content\n",
        "\n",
        "- We want to extend our recommender systems example\n",
        "\n",
        "## Let's recap...\n",
        "\n",
        "```{.python}\n",
        "with open(\"example.csv\", \"r\") as file:\n",
        "    # Skip header\n",
        "    header = file.readline()\n",
        "    \n",
        "    # Process and print each record\n",
        "    for line in file:\n",
        "        columns = line.strip().split(\",\")\n",
        "        nice_output = \"\"\n",
        "        for column in columns:\n",
        "          nice_output += column + \" | \"\n",
        "        print(nice_output)\n",
        "```\n",
        "\n",
        "\n",
        "## Generating data (advanced)"
      ]
    },
    {
      "cell_type": "code",
      "metadata": {},
      "source": [
        "#| echo: true\n",
        "\n",
        "import csv\n",
        "import random\n",
        "\n",
        "# Lists of names and diets\n",
        "names = [\"Michael Jordan\", \"Tom Hanks\", \"Arya Stark\", \"Goku\", \"Scarlett Johansson\", \n",
        "         \"Mickey Mouse\", \"Hermione Granger\", \"Naruto\", \"Serena Williams\", \"Oprah Winfrey\",\n",
        "         \"Leonardo DiCaprio\", \"Mario\", \"Taylor Swift\", \"Darth Vader\", \"James Bond\",\n",
        "         \"Usain Bolt\", \"Tony Stark\", \"Bugs Bunny\", \"The Rock\", \"Walter White\",\n",
        "         \"Sheldon Cooper\", \"Mulan\", \"Elsa\", \"Sherlock Holmes\", \"Jack Sparrow\",\n",
        "         \"Luffy\", \"Luke Skywalker\", \"Marilyn Monroe\", \"Freddie Mercury\", \"Lady Gaga\",\n",
        "         \"Superman\", \"Wonder Woman\", \"Neo\", \"Beyonce\", \"Ash Ketchum\",\n",
        "         \"Lara Croft\", \"Elvis Presley\", \"Kermit the Frog\", \"Spider-Man\", \"Hannibal Lecter\",\n",
        "         \"Indiana Jones\", \"Simba\", \"Rihanna\", \"Dexter Morgan\", \"Morpheus\",\n",
        "         \"Wolverine\", \"Cinderella\", \"Captain America\", \"Thor\", \"Katniss Everdeen\"]\n",
        "\n",
        "movies_by_genre = {\n",
        "    \"Drama\": [\"The Shawshank Redemption\", \"Forrest Gump\", \"The Godfather\", \"Titanic\", \"Fight Club\"],\n",
        "    \"Action\": [\"The Dark Knight\", \"Avengers: Endgame\", \"Pulp Fiction\", \"Jurassic Park\", \"Lord of the Rings: The Fellowship of the Ring\"],\n",
        "    \"Sci-Fi\": [\"Inception\", \"The Matrix\", \"Back to the Future\", \"Star Wars: Episode IV\", \"Blade Runner\"],\n",
        "    \"Animation\": [\"The Lion King\", \"Toy Story\", \"Frozen\", \"Finding Nemo\", \"Shrek\"],\n",
        "    \"Classic\": [\"Casablanca\", \"Jaws\", \"Gone with the Wind\", \"Psycho\", \"Citizen Kane\"]\n",
        "}\n",
        "\n",
        "parties = [\"very left wing\", \"left wing\", \"right wing\", \"very right wing\"]\n",
        "\n",
        "diets = [\"plant-heavy\", \"meat-heavy\", \"fruit-heavy\", \"balanced\", \"dairy-heavy\"]\n",
        "\n",
        "# Generate 50 records\n",
        "records = [[\"name\", \"favorite_movie\", \"second_favorite_movie\", \"preferred_political_party\", \"ideal_diet\"]]\n",
        "for _ in range(50):\n",
        "    name = random.choice(names)\n",
        "    genre = random.choice(list(movies_by_genre.keys()))\n",
        "    movie = random.choice(movies_by_genre[genre])\n",
        "    movie2 = random.choice(movies_by_genre[genre])\n",
        "    party = random.choice(parties)\n",
        "    diet = random.choice(diets)\n",
        "    records.append([name, movie, movie2, party, diet])\n",
        "\n",
        "# Write to a CSV file\n",
        "with open(\"fake_data.csv\", \"w\", newline=\"\") as csvfile:\n",
        "    writer = csv.writer(csvfile)\n",
        "    writer.writerows(records)\n",
        "\n",
        "# Display the first few rows\n",
        "for row in records[:3]:\n",
        "    print(\", \".join(row))"
      ],
      "execution_count": null,
      "outputs": []
    },
    {
      "cell_type": "markdown",
      "metadata": {},
      "source": [
        "## Get your own fake_data.csv\n",
        "\n",
        "- Download csv file from Canvas -> GitHub\n",
        "- Download python file from Canvas -> GitHub and run it\n",
        "- Bonus question: what will be different?\n",
        "\n",
        "## Check that you can read it"
      ]
    },
    {
      "cell_type": "code",
      "metadata": {},
      "source": [
        "#| echo: true\n",
        "with open(\"fake_data.csv\", \"r\") as file:\n",
        "    header = file.readline()   \n",
        "    print(header)\n",
        "    line = file.readline()\n",
        "    print(line) "
      ],
      "execution_count": null,
      "outputs": []
    },
    {
      "cell_type": "markdown",
      "metadata": {},
      "source": [
        "## Similarity\n",
        "\n",
        "Our initial definition: \"common interests counter\"\n",
        "\n",
        "- If we have the same favorite movie, that's one common interest\n",
        "- If we have the same preferred political party, that's one common interest.\n",
        "- If we also have the same preferred diet, that's one common interest.\n",
        "- Let's see who is the most similar!\n",
        "\n",
        "\n",
        "## Many definitions of similar\n",
        "\n",
        "In CS and math, there are many ways we can see how \"similar\" or \"close\" two items are\n",
        "\n",
        "- (cosine distance, manhattan distance, etc.)\n",
        "- So we need to specify a definition and algorithm\n",
        "\n",
        "## Our movie/political party/diet recommender system\n",
        "\n",
        "To recommend a movie to someone, we take the following approach:\n",
        "\n",
        "- We'll look at favorite movie, preferred political party, and ideal diet\n",
        "- Each match counts as one similarity score. So score between any two people ranges from 0 to 3.\n",
        "- When we find the \"highest\" score, suggest our user watch that person's second favorite movie!\n",
        "\n",
        "## Our algorithm\n",
        "\n",
        "### Initalize\n",
        "- Set variables to hold all the things we need (i.e., get our buckets ready)\n",
        "\n",
        "### Loop\n",
        "- Run through every record and process it\n",
        "\n",
        "## Initialize\n",
        "- Pick the user we'll give a recommendation to\n",
        "- Define a variable to hold similarity score (starts at zero)\n",
        "- Define a variable to keep track of which person is most similar\n",
        "- Define a variable to keep track of what what we'll recommend\n",
        "\n",
        "## Loop\n",
        "\n",
        "### For each person other than our chosen one\n",
        "- Compare the two people\n",
        "- Check if favorite movie is the same. if so, add one similarity score\n",
        "- Check if preferred political party is the same.  if so, add one similarity score\n",
        "- Check if ideal diet is the same. if so, add one similarity score\n",
        "- If similarity score is higher than the current top score, update top score/recommendation\n",
        "\n",
        "Note: we'll have to use our list/string indexing carefully!\n",
        "\n",
        "## Our pseudo code"
      ]
    },
    {
      "cell_type": "code",
      "metadata": {},
      "source": [
        "#| echo: true\n",
        "\n",
        "# select a user (who will receive recommendation)\n",
        "# init variables to hold top similarity score, top person, recommendation\n",
        "\n",
        "# load data\n",
        "    # use a loop to go through all other record lines (one record = one user)\n",
        "    # make sure to skip chosen user\n",
        "    # split each record line into a list of items\n",
        "        # use a nested loop to go through each item\n",
        "        # make sure we compare columns correctly\n",
        "    # check if similarity score is higher\n",
        "        # update if so\n",
        "\n",
        "# print top score, record, and recommendation"
      ],
      "execution_count": null,
      "outputs": []
    },
    {
      "cell_type": "markdown",
      "metadata": {},
      "source": [
        "## Initialize"
      ]
    },
    {
      "cell_type": "code",
      "metadata": {},
      "source": [
        "#| echo: true\n",
        "# select a user + init variables to keep track of scores\n",
        "index_of_user = 17\n",
        "top_score = 0\n",
        "top_record = \"\"\n",
        "recommendation = \"\"\n",
        "\n",
        "# load data\n",
        "    # use a loop to go through all other record lines (one record = one user)\n",
        "    # make sure to skip chosen user\n",
        "    # split each record line into a list of items\n",
        "        # use a nested loop to go through each item\n",
        "        # make sure we compare columns correctly\n",
        "    # check if similarity score is higher\n",
        "        # update if so\n",
        "\n",
        "# print top score, record, and recommendation"
      ],
      "execution_count": null,
      "outputs": []
    },
    {
      "cell_type": "markdown",
      "metadata": {},
      "source": [
        "## Load data"
      ]
    },
    {
      "cell_type": "code",
      "metadata": {},
      "source": [
        "#| echo: true\n",
        "# select a user + init variables to keep track of scores\n",
        "index_of_user = 17\n",
        "top_score = 0\n",
        "top_record = \"\"\n",
        "recommendation = \"\"\n",
        "\n",
        "# load data\n",
        "with open(\"fake_data.csv\", \"r\") as file:\n",
        "    # Skip header\n",
        "    header = file.readline()\n",
        "    print(header)\n",
        "    # use a loop to go through all other record lines (one record = one user)\n",
        "    # make sure to skip chosen user\n",
        "    # split each record line into a list of items\n",
        "        # use a nested loop to go through each item\n",
        "        # make sure we compare columns correctly\n",
        "    # check if similarity score is higher\n",
        "        # update if so\n",
        "\n",
        "# print top score, record, and recommendation"
      ],
      "execution_count": null,
      "outputs": []
    },
    {
      "cell_type": "markdown",
      "metadata": {},
      "source": [
        "## First for loop"
      ]
    },
    {
      "cell_type": "code",
      "metadata": {},
      "source": [
        "#| echo: true\n",
        "# select a user + init variables to keep track of scores\n",
        "index_of_user = 17\n",
        "top_score = 0\n",
        "top_record = \"\"\n",
        "recommendation = \"\"\n",
        "\n",
        "# load data\n",
        "with open(\"fake_data.csv\", \"r\") as file:\n",
        "    # Skip header\n",
        "    all_lines = file.readlines()\n",
        "    header = all_lines[0]\n",
        "    records = all_lines[1:]\n",
        "\n",
        "    user_record = records[index_of_user]\n",
        "\n",
        "    # use a loop to go through all other record lines (one record = one user)\n",
        "    for record in records:\n",
        "        if record == user_record:\n",
        "            continue\n",
        "\n",
        "        # split each record line into a list of items\n",
        "        columns = record.strip().split(\",\")\n",
        "        print(columns)\n",
        "        # use a nested loop to go through each item"
      ],
      "execution_count": null,
      "outputs": []
    },
    {
      "cell_type": "markdown",
      "metadata": {},
      "source": [
        "## Note on printing as we go\n",
        "\n",
        "As we write this code, at each step let's make our code print something out so we know we're making progress!\n",
        "\n",
        "When you're feeling stuck, trying printing something for every new line of code you write.\n",
        "\n",
        "\n",
        "## Nested loop"
      ]
    },
    {
      "cell_type": "code",
      "metadata": {
        "output-location": "slide"
      },
      "source": [
        "#| echo: true\n",
        "# select a user + init variables to keep track of scores\n",
        "index_of_user = 17\n",
        "top_score = 0\n",
        "top_record = \"\"\n",
        "recommendation = \"\"\n",
        "\n",
        "# load data\n",
        "with open(\"fake_data.csv\", \"r\") as file:\n",
        "    all_lines = file.readlines()\n",
        "    header = all_lines[0]\n",
        "    records = all_lines[1:]\n",
        "\n",
        "    user_record = records[index_of_user].strip().split(\",\")\n",
        "\n",
        "    # use a loop to go through all other record lines (one record = one user)\n",
        "    for record in records:\n",
        "        columns = record.strip().split(\",\")\n",
        "\n",
        "        if user_record[0] == columns[0]:\n",
        "            print(\"Skipping \", record)\n",
        "            continue\n",
        "\n",
        "        score_for_current_record = 0\n",
        "        # split each record line into a list of items\n",
        "        \n",
        "        # use a nested loop to go through each item\n",
        "        # use manually defined [1,3,4,5] to get only\n",
        "        # favorite_movie, party, diet (skip)\n",
        "        for column_index in [1,3,4]:\n",
        "            if columns[column_index] == user_record[column_index]:\n",
        "                score_for_current_record += 1\n",
        "        \n",
        "        if score_for_current_record > top_score:\n",
        "            top_score = score_for_current_record\n",
        "            top_record = record\n",
        "            recommendation = columns[2]\n",
        "\n",
        "print(\"You are\", user_record)\n",
        "\n",
        "print(\"After careful consideration, we have found that the most similar user is\")\n",
        "print(top_record)\n",
        "print(f\"You have a similarity score of {top_score}\")\n",
        "\n",
        "print(\"We recommend you watch\", recommendation)"
      ],
      "execution_count": null,
      "outputs": []
    }
  ],
  "metadata": {
    "kernelspec": {
      "name": "python3",
      "language": "python",
      "display_name": "Python 3 (ipykernel)"
    }
  },
  "nbformat": 4,
  "nbformat_minor": 4
}