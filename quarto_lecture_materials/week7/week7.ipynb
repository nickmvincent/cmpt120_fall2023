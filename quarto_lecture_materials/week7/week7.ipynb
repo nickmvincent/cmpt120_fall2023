{
  "cells": [
    {
      "cell_type": "raw",
      "metadata": {},
      "source": [
        "---\n",
        "title: CMPT 120 Lecture 7-1\n",
        "date: '2023-10-16'\n",
        "author: Prof. Nick Vincent\n",
        "institute: Simon Fraser University\n",
        "format:\n",
        "  revealjs:\n",
        "    slide-number: true\n",
        "    chalkboard:\n",
        "      buttons: false\n",
        "    theme: solarized\n",
        "---"
      ],
      "id": "5b27f70b"
    },
    {
      "cell_type": "markdown",
      "metadata": {},
      "source": [
        "## 7-1 Housekeeping\n",
        "Review announcements\n",
        "\n",
        "- Midterm, assignment\n",
        "\n",
        "## 7-1 \n",
        "\n",
        "- Review: min and max\n",
        "- Talk through completed example of recommender system\n",
        "- New material: bits, bytes, and codes (not on midterm)\n"
      ],
      "id": "86db1467"
    },
    {
      "cell_type": "code",
      "metadata": {
        "output-location": "slide"
      },
      "source": [
        "#| echo: true\n"
      ],
      "id": "0520ea1c",
      "execution_count": null,
      "outputs": []
    },
    {
      "cell_type": "code",
      "metadata": {},
      "source": [
        "#| echo: true"
      ],
      "id": "b7341614",
      "execution_count": null,
      "outputs": []
    },
    {
      "cell_type": "markdown",
      "metadata": {},
      "source": [
        "## Min and max\n",
        "\n",
        "Pseudo code:\n",
        "\n",
        "- Initialize a variable to hold max (min). It should be smaller (larger) than items\n",
        "- Iterate through items\n",
        "- If item is larger (smaller) thatn current value of variable, store it in our variable\n",
        "- After all items are seen, we have the max\n",
        "\n",
        "## Max: code"
      ],
      "id": "1350ef16"
    },
    {
      "cell_type": "code",
      "metadata": {},
      "source": [
        "#| echo: true\n",
        "values = [3, 5, 2, 8, 6]\n",
        "maximum = values[0]\n",
        "for value in values:\n",
        "    if value > maximum:\n",
        "        maximum = value\n",
        "print(maximum)  # 8"
      ],
      "id": "1a28a87c",
      "execution_count": null,
      "outputs": []
    },
    {
      "cell_type": "markdown",
      "metadata": {},
      "source": [
        "## Index of max\n",
        "\n",
        "How to keep track of the *index* of the max or min?\n",
        "\n",
        "## Index of max: code"
      ],
      "id": "77fd62e3"
    },
    {
      "cell_type": "code",
      "metadata": {},
      "source": [
        "#| echo: true\n",
        "values = [3, 5, 2, 8, 6]\n",
        "maximum = values[0]\n",
        "index_of_max = 0\n",
        "for i in range(len(values)):\n",
        "    value = values[i]\n",
        "    if value > maximum:\n",
        "        maximum = value\n",
        "        index_of_max = i\n",
        "print(maximum, i)"
      ],
      "id": "8a5b4634",
      "execution_count": null,
      "outputs": []
    },
    {
      "cell_type": "markdown",
      "metadata": {},
      "source": [
        "## Variables used for max\n",
        "To find the person with a max or min score in a file, how many variables do you need to use? What data types will you use?\n",
        "\n",
        "- Answer: just one number!\n",
        "\n",
        "## Review rec sys\n",
        "```{.python}\n",
        "# select a user + init variables to keep track of scores\n",
        "index_of_user = 17\n",
        "top_score = 0\n",
        "top_record = \"\"\n",
        "recommendation = \"\"\n",
        "\n",
        "# load data\n",
        "with open(\"fake_data.csv\", \"r\") as file:\n",
        "    all_lines = file.readlines()\n",
        "    header = all_lines[0]\n",
        "    records = all_lines[1:]\n",
        "\n",
        "    user_record = records[index_of_user].strip().split(\",\")\n",
        "\n",
        "    # use a loop to go through all other record lines (one record = one user)\n",
        "    for record in records:\n",
        "        columns = record.strip().split(\",\")\n",
        "\n",
        "        if user_record[0] == columns[0]:\n",
        "            print(\"Skipping \", record)\n",
        "            continue\n",
        "\n",
        "        score_for_current_record = 0\n",
        "        # split each record line into a list of items\n",
        "        \n",
        "        # use a nested loop to go through each item\n",
        "        # use manually defined [1,3,4,5] to get only\n",
        "        # favorite_movie, party, diet (skip)\n",
        "        for column_index in [1,3,4]:\n",
        "            if columns[column_index] == user_record[column_index]:\n",
        "                score_for_current_record += 1\n",
        "        \n",
        "        if score_for_current_record > top_score:\n",
        "            top_score = score_for_current_record\n",
        "            top_record = record\n",
        "            recommendation = columns[2]\n",
        "\n",
        "print(\"You are\", user_record)\n",
        "\n",
        "print(\"After careful consideration, we have found that the most similar user is\")\n",
        "print(top_record)\n",
        "print(f\"You have a similarity score of {top_score}\")\n",
        "\n",
        "print(\"We recommend you watch\", recommendation)\n",
        "```\n",
        "\n",
        "\n",
        "## Concept review: Nested loops\n",
        "\n",
        "- What does it mean to have a nested loop?\n",
        "\n",
        "## Answer:\n",
        "Loop within a loop!\n",
        "\n",
        "basic breakdown of how nested loops work:\n",
        "\n",
        "- The outer loop begins its first iteration.\n",
        "- As the outer loop runs, it encounters the inner loop.\n",
        "- The inner loop then runs to completion.\n",
        "- Once the inner loop finishes, the outer loop moves to its next iteration and the inner loop runs again.\n",
        "- This process continues until the outer loop has completed all of its iterations.\n",
        "\n",
        "\n",
        "## Concept review: Lists\n",
        "How do we add items to a list?\n",
        "\n",
        "How do we access the second item of a list?\n",
        "\n",
        "How do we access the second to last item of a list?\n",
        "\n",
        "\n",
        "## Binary numbers and ASCII\n",
        "- New content!\n",
        "- Not on midterm.\n",
        "- Why learn? It's how information is stored on our computers\n",
        "\n",
        "## Immersion program\n",
        "01001000 01100101 01101100 01101100 01101111 00100000 01010111 01101111 01110010 01101100 01100100\n",
        "\n",
        "## Just kidding!\n",
        "\n",
        "## \n",
        "Fun fact -- there's a binary message in the room where I studied computing science!\n",
        "https://newsroom.ucla.edu/stories/a-coded-message-hidden-in-floor-247232\n",
        "\n",
        "## Why binary \n",
        "\n",
        "What are (digital) computers?\n",
        "\n",
        "- Machines that convert low and high electrical signals into 0's and 1's\n",
        "- Then we do some magic with the 0's and 1's\n",
        "\n",
        "## Bits\n",
        "A bit is single unit of information that has either the value zero or one\n",
        "\n",
        "- 0\n",
        "- 1\n",
        "\n",
        "## Bytes\n",
        "A byte is 8 bits\n",
        "\n",
        "## Using decimal to represent numbers\n",
        "In \"decimal\" (aka numbers you are used to seeing), e.g. 10, 250, 11713\n",
        "each digit represents powers of ten. \n",
        "\n",
        "In the number '345'\n",
        "\n",
        "- the 3 represents 3 * 10^2 = 300, because 10^2=100\n",
        "- the 4 represents 4 * 10^1 = 40\n",
        "- The 5 represents 5 * 10^0 = 5\n",
        "\n",
        "As we add digits to the *left* hand side of our decimal numbers, we get higher powers of ten\n",
        "\n",
        "## Using binary to represent numbers\n",
        "In the binary the bits represents powers of 2\n",
        "\n",
        "- 1 (2^0)\n",
        "- 2 (2^1)\n",
        "- 4 (2^2 = 2 * 2)\n",
        "- 8 (2^3 = 2 * 2 * 2)\n",
        "- 16 (2^4 = 2 * 2 * 2 * 2)\n",
        "- ...\n",
        "\n",
        "## Example of 2 digit binary numbers\n",
        "\n",
        "- 00 -> 0*1 + 0*2 = 0\n",
        "- 01 -> 1*1 + 0*2 = 1\n",
        "- 10 -> 0*1 + 1*2 = 2\n",
        "- 11 -> 0*1 + 1*2 = 3\n",
        "\n",
        "## Challenge\n",
        "- What is the maximum number we can store with 4 bits\n",
        "- What about a byte?\n",
        "- Extreme challenge (trying using your Python terminal): 4 bytes\n",
        "\n",
        "## Answer"
      ],
      "id": "1889eea3"
    },
    {
      "cell_type": "code",
      "metadata": {},
      "source": [
        "def max_number_for_bits(n_bits):\n",
        "    return 2**n_bits - 1\n",
        "\n",
        "# Example usage:\n",
        "n_bits = 4\n",
        "print(f\"The maximum number that can be stored with {n_bits} bits is {max_number_for_bits(n_bits)}\")"
      ],
      "id": "f3e61bf1",
      "execution_count": null,
      "outputs": []
    },
    {
      "cell_type": "markdown",
      "metadata": {},
      "source": [
        "## ASCII\n",
        "- ASCII is a table that maps decimal numbers to characters\n",
        "- So, if we have a binary number, we can map it to a decimal number and then to a character\n",
        "\n",
        "\n",
        "## Converting binary to decimal in Python\n",
        "\n",
        "- Any ideas how we'd do it?\n",
        "\n",
        "\n",
        "## Converting binary to decimal in Python"
      ],
      "id": "21bf1148"
    },
    {
      "cell_type": "code",
      "metadata": {},
      "source": [
        "binary_str = \"1101\"\n",
        "decimal = 0\n",
        "length = len(binary_str)\n",
        "\n",
        "for i in range(length):\n",
        "    bit = binary_str[i]\n",
        "    if bit == '1':\n",
        "        decimal += 2 ** (length - i - 1)\n",
        "\n",
        "print(f\"The decimal representation of binary {binary_str} is {decimal}\")"
      ],
      "id": "4e49f98a",
      "execution_count": null,
      "outputs": []
    },
    {
      "cell_type": "markdown",
      "metadata": {},
      "source": [
        "## With a few bells and whistles"
      ],
      "id": "7c45aaf4"
    },
    {
      "cell_type": "code",
      "metadata": {},
      "source": [
        "def binary_to_decimal(binary_str):\n",
        "    decimal = 0\n",
        "    length = len(binary_str)\n",
        "    for i, bit in enumerate(binary_str):\n",
        "        decimal += int(bit) * (2 ** (length - i - 1))\n",
        "    return decimal"
      ],
      "id": "7eb2c2f0",
      "execution_count": null,
      "outputs": []
    },
    {
      "cell_type": "markdown",
      "metadata": {},
      "source": [
        "# Example usage:"
      ],
      "id": "9a382f76"
    },
    {
      "cell_type": "code",
      "metadata": {},
      "source": [
        "binary_str = \"1101\"\n",
        "print(f\"The decimal representation of binary {binary_str} is {binary_to_decimal(binary_str)}\")"
      ],
      "id": "742bb219",
      "execution_count": null,
      "outputs": []
    },
    {
      "cell_type": "markdown",
      "metadata": {},
      "source": [
        "## With an extra built-in method\n"
      ],
      "id": "df167399"
    },
    {
      "cell_type": "code",
      "metadata": {},
      "source": [
        "#| echo: true\n",
        "\n",
        "def binary_to_decimal(binary_str):\n",
        "    return int(binary_str, 2)\n",
        "\n",
        "# Example usage:\n",
        "binary_str = \"1101\"\n",
        "print(f\"The decimal representation of binary {binary_str} is {binary_to_decimal(binary_str)}\")"
      ],
      "id": "58e8b52a",
      "execution_count": null,
      "outputs": []
    },
    {
      "cell_type": "markdown",
      "metadata": {},
      "source": [
        "## Question: What's this code?\n",
        "\n",
        "00FFAA\n",
        "\n",
        "## Another numbering system: Hexadecimal\n",
        "\n",
        "- Used for color representations\n",
        "\n",
        "\n",
        "## And more!\n",
        "\n",
        "- Unicode\n",
        "- Mojibake\n",
        "  - https://en.wikipedia.org/wiki/Mojibake\n",
        "\n",
        "\n",
        "## Parallel lists"
      ],
      "id": "957b11c6"
    },
    {
      "cell_type": "code",
      "metadata": {},
      "source": [
        "print(\"Lets find the most popular coffee shop\")\n",
        "\n",
        "survey_responses = [\n",
        "    \"tims\", \"sbux\", \"ren\", \"tims\", \"sbux\", \"blenz\",\n",
        "    \"blenz\", \"ren\", \"blenz\"\n",
        "]\n",
        "options = [\"tims\", \"sbux\", \"ren\", \"blenz\"]\n",
        "\n",
        "list_of_counting_vars = len(options) * [0]\n",
        "\n",
        "# you could also init an empty array and use += or append\n",
        "# basically, we want a list of [0,0,0,0], but without hardcoding\n",
        "\n",
        "for response in survey_responses:\n",
        "    # if processing file, we might need to strip, split, etc. \n",
        "    for i in range(len(options)):\n",
        "        if options[i] == response:\n",
        "            list_of_counting_vars[i] += 1\n",
        "\n",
        "for i in range(len(options)):\n",
        "    print(options[i], list_of_counting_vars[i])"
      ],
      "id": "1d12b48a",
      "execution_count": null,
      "outputs": []
    },
    {
      "cell_type": "markdown",
      "metadata": {},
      "source": [
        "## Example ASCII <-> Dec"
      ],
      "id": "1bbbb410"
    },
    {
      "cell_type": "code",
      "metadata": {},
      "source": [
        "dec = [\"65\", \"66\", \"67\"]\n",
        "chars = [\"A\", \"B\", \"C\"]\n",
        "\n",
        "characters_as_dec = [\"65\", \"65\", \"65\", \"67\", \"67\", \"67\"]\n",
        "\n",
        "for i in range(len(characters_as_dec)):\n",
        "    for j in range(len(dec)):\n",
        "        if characters_as_dec[i] == dec[j]:\n",
        "            print(chars[j])"
      ],
      "id": "0ebb8db4",
      "execution_count": null,
      "outputs": []
    }
  ],
  "metadata": {
    "kernelspec": {
      "name": "python3",
      "language": "python",
      "display_name": "Python 3 (ipykernel)"
    }
  },
  "nbformat": 4,
  "nbformat_minor": 5
}