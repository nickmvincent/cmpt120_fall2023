{
  "cells": [
    {
      "cell_type": "raw",
      "metadata": {},
      "source": [
        "---\n",
        "title: CMPT 120 Lectures 4-1 and 4-2\n",
        "date: '2023-09-25'\n",
        "author: Prof. Nick Vincent\n",
        "institute: Simon Fraser University\n",
        "format:\n",
        "  revealjs:\n",
        "    slide-number: true\n",
        "    chalkboard:\n",
        "      buttons: false\n",
        "    theme: solarized\n",
        "  pdf: default\n",
        "---"
      ]
    },
    {
      "cell_type": "markdown",
      "metadata": {},
      "source": [
        "## Week 4\n",
        "\n",
        "Welcome to Monday of Week 4!\n",
        "\n",
        "## Housekeeping\n",
        "- New assignment will be posted tonight.\n",
        "- Clarifying late submissions and fixing errors.\n",
        "- Housekeeping check-in?\n",
        "  - How is Canvas working for you? How about Discord?\n",
        "- Suggestions on effective question asking\n",
        "\n",
        "\n",
        "## Agenda for Lecture 4-1\n",
        "- Practice questions + discuss\n",
        "- Concept review: loops and why we use them\n",
        "  - DRY: Don't repeat yourself\n",
        "  - When to use loops\n",
        "- Concept review: types and converting\n",
        "  - implict vs explicit type conversions\n",
        "- Coding practice\n",
        "- Break\n",
        "\n",
        "## Practice Questions\n",
        "\n",
        "- We'll start with some non-coding practice questions. \n",
        "- No need to type any code here: just read the questions and do your best to answer.\n",
        "- You may want to practice writing the answer in a blank text file or piece of paper, to simulate a test taking environment.\n",
        "\n",
        "## Question 1&2\n",
        "What would the following code output?\n",
        "\n",
        "Question 1 "
      ]
    },
    {
      "cell_type": "code",
      "metadata": {},
      "source": [
        "#| echo: true\n",
        "print(\"!.?hellothere\".strip(\"!.h\").upper())\n",
        "print(\"!.?hellothere\".strip(\"!.?h\").upper())"
      ],
      "execution_count": null,
      "outputs": []
    },
    {
      "cell_type": "markdown",
      "metadata": {},
      "source": [
        "Question 2"
      ]
    },
    {
      "cell_type": "code",
      "metadata": {},
      "source": [
        "#| echo: true\n",
        "foods = [\"Shakshuka\", \"Burrito\", \"Burger\"]\n",
        "print(\"Burger\".upper().lower() in foods)\n",
        "print(\"Burrito\".lower().upper() in foods)\n",
        "print(\"Taco\" in foods)"
      ],
      "execution_count": null,
      "outputs": []
    },
    {
      "cell_type": "markdown",
      "metadata": {},
      "source": [
        "## Practice Question 3\n",
        "What would the following code output?"
      ]
    },
    {
      "cell_type": "code",
      "metadata": {},
      "source": [
        "#| echo: true\n",
        "a = \"apple\"\n",
        "b = \"banana\"\n",
        "c = \"cherry\"\n",
        "\n",
        "if a + b in [\"apple\", \"applebanana\", \"applecherry\"]:\n",
        "    print(\"Hello\")\n",
        "else:\n",
        "    print(\"Goodbye\")"
      ],
      "execution_count": null,
      "outputs": []
    },
    {
      "cell_type": "markdown",
      "metadata": {},
      "source": [
        "## Practice Question 4"
      ]
    },
    {
      "cell_type": "code",
      "metadata": {},
      "source": [
        "#| echo: true\n",
        "for i in [\"0\", \"1\", \"2\"]:\n",
        "    print(i)"
      ],
      "execution_count": null,
      "outputs": []
    },
    {
      "cell_type": "markdown",
      "metadata": {},
      "source": [
        "## Practice Question 5\n",
        "```{.python}\n",
        "#| echo: true\n",
        "is_a_good_day = False\n",
        "response = input(\"Was today a good day?\").lower()\n",
        "if response in [\"good\", \"great\", \"awesome\"]:\n",
        "    is_a_good_day = True\n",
        "print(is_a_good_day)\n",
        "```\n",
        "What does this code print if user inputs:\n",
        "\n",
        "- \"I feel bad today\"?\n",
        "- \"I feel good\"?\n",
        "- \"GOOD\"?\n",
        "- \"good\"?\n",
        "\n",
        "## Loops\n",
        "It's great for our well-being and for our software quality to avoid repeating ourself.\n",
        "\n",
        "This has a led to a popular acronym in coding: DRY\n",
        "\n",
        "Don't Repeat Yourself!\n",
        "\n",
        "## D.R.Y. Code\n",
        "Read insightful Internet users' thoughts here (not sarcastic -- it really can be insightful): \n",
        "- https://softwareengineering.stackexchange.com/questions/103233/why-is-dry-important\n",
        "\n",
        "Some highlights:\n",
        "\n",
        "- maintenance challenges\n",
        "- readability\n",
        "- extensibility\n",
        "- easier testing\n",
        "\n",
        "## DRY in practice\n",
        "If you find yourself writing"
      ]
    },
    {
      "cell_type": "code",
      "metadata": {},
      "source": [
        "#| echo: true\n",
        "item1 = \"soup\"\n",
        "item2 = \"salad\"\n",
        "print('~~~' + item1 + '~~~')\n",
        "print('~~~' + item2 + '~~~')"
      ],
      "execution_count": null,
      "outputs": []
    },
    {
      "cell_type": "markdown",
      "metadata": {},
      "source": [
        "You may really want"
      ]
    },
    {
      "cell_type": "code",
      "metadata": {},
      "source": [
        "#| echo: true\n",
        "for item in [item1, item2]:\n",
        "    print('~~~' + item + '~~~')"
      ],
      "execution_count": null,
      "outputs": []
    },
    {
      "cell_type": "markdown",
      "metadata": {},
      "source": [
        "## Quick gotcha\n",
        "I actually made this error\n",
        "while prepping these slides!\n",
        "\n",
        "Can anyone catch it?"
      ]
    },
    {
      "cell_type": "code",
      "metadata": {},
      "source": [
        "#| echo: true\n",
        "for item in [item1, item2]:\n",
        "    print('~~~' + item1 + '~~~')"
      ],
      "execution_count": null,
      "outputs": []
    },
    {
      "cell_type": "markdown",
      "metadata": {},
      "source": [
        "## More motivation\n",
        "It's even more motivating to use loops when your code gets complicated.\n",
        "\n",
        "You may want to copy paste... but if what if something changes?\n",
        "\n",
        "Imagine that you're performing a mathematical transformation... 100 times?\n",
        "\n",
        "1000000 times?\n",
        "\n",
        "## More motivation\n",
        "\n",
        "```{.python}\n",
        "x = 5\n",
        "a = complicated_function(x)\n",
        "b = complicated_function(a) + other_variable\n",
        "c = random_numer\n",
        "d = a + b + c\n",
        "print(d)\n",
        "```\n",
        "\n",
        "I don't want to write this 5 times, let alone 100!\n",
        "\n",
        "## Getting extreme with nested loops\n",
        "Loops become even more powerful when we have multiple lists.\n",
        "\n",
        "We'll see a variety of ways later on to handle many combinations of items.\n",
        "\n",
        "As a quick example, say we want to print out a grid that looks like a game board."
      ]
    },
    {
      "cell_type": "code",
      "metadata": {},
      "source": [
        "#| echo: true\n",
        "for x in [1,2,3,4,5]:\n",
        "    for y in [1,2,3,4,5]:\n",
        "        print(\"()\", end=\" \")\n",
        "    print()"
      ],
      "execution_count": null,
      "outputs": []
    },
    {
      "cell_type": "markdown",
      "metadata": {},
      "source": [
        "## New argument in that last slide\n",
        "\n",
        "- `print(\"()\", end=\" \")`\n",
        "- `end` is a \"keyword argument\" we can \"pass\" to the `print()` function\n",
        "- Useful to print without a newline character!"
      ]
    },
    {
      "cell_type": "code",
      "metadata": {},
      "source": [
        "#| echo: true\n",
        "print(\"This\", end=\" \")\n",
        "print(\"is all\", end=\" \")\n",
        "print(\"on the same\", end=\" \")\n",
        "print(\"line.\", end=\"\")"
      ],
      "execution_count": null,
      "outputs": []
    },
    {
      "cell_type": "markdown",
      "metadata": {},
      "source": [
        "## Preview example: Times table"
      ]
    },
    {
      "cell_type": "code",
      "metadata": {},
      "source": [
        "#| echo: true\n",
        "for x in [1,2,3,4,5]:\n",
        "    for y in [1,2,3,4,5]:\n",
        "        answer = x * y\n",
        "        print(str(answer).zfill(2), end=\" \")\n",
        "    print()"
      ],
      "execution_count": null,
      "outputs": []
    },
    {
      "cell_type": "markdown",
      "metadata": {},
      "source": [
        "## Mental model for loops\n",
        "Whatever code is indented under your `for x in items:`\n",
        "\n",
        "- will be run `n` times, where `n` is the length of `items`\n",
        "- each time, the value of `x` will change to next item in `items`\n",
        "- the indented code could itself include a loop (which will require more indendation!)\n",
        "\n",
        "## Type-related functions\n",
        "\n",
        "- `int()`\n",
        "- `float()`\n",
        "- `str()`\n",
        "- `bool()`\n",
        "- `type()`: tells us the type of an object\n",
        "\n",
        "## Review: Type conversion\n",
        "\n",
        "We can perform type conversions either implicitly (automatic) or explicitly (using type functions like `str()`). \n",
        "\n",
        "- Implicit type conversion is a nice feature of Python, but can be a source of errors and gotchas!\n",
        "- One classic \"silent error\": concatenated two strings instead of adding two numbers\n",
        "- One classic \"not silent\" error: adding a string and an int causes a crash\n",
        "\n",
        "## Implict Type Conversion examples"
      ]
    },
    {
      "cell_type": "code",
      "metadata": {},
      "source": [
        "#| echo: true\n",
        "result = 5 / 2  # Integer division that results in a float\n",
        "print(result)  # Output will be 2.5\n",
        "print(type(result))  # Output will be <class 'float'>"
      ],
      "execution_count": null,
      "outputs": []
    },
    {
      "cell_type": "code",
      "metadata": {},
      "source": [
        "#| echo: true\n",
        "result = 5 + 2.0  # Integer + Float = Float\n",
        "print(result)  # Output will be 7.0\n",
        "print(type(result))  # Output will be <class 'float'>"
      ],
      "execution_count": null,
      "outputs": []
    },
    {
      "cell_type": "markdown",
      "metadata": {},
      "source": [
        "## Do I need to memorize every implicit type conversion?\n",
        "\n",
        "- In general, no! \n",
        "- What's more important is that when you're coding,\n",
        "you're careful to check your outputs and see if type conversion is causing problems.\n",
        "\n",
        "- Some languages are very strict about types. \n",
        "- Python is not, which often makes coding more pleasant -- but we have to be cautious!\n",
        "\n",
        "## Explicit Type Conversions"
      ]
    },
    {
      "cell_type": "code",
      "metadata": {},
      "source": [
        "#| echo: true\n",
        "float_num = 3.5\n",
        "int_num = int(float_num)  # Converting float to integer\n",
        "print(int_num)  # Output will be 3\n",
        "print(type(int_num))  # Output will be <class 'int'>"
      ],
      "execution_count": null,
      "outputs": []
    },
    {
      "cell_type": "code",
      "metadata": {},
      "source": [
        "#| echo: true\n",
        "int_num = 5\n",
        "str_num = str(int_num)  # Converting integer to string\n",
        "print(str_num)  # Output will be '5'\n",
        "print(type(str_num))  # Output will be <class 'str'>"
      ],
      "execution_count": null,
      "outputs": []
    },
    {
      "cell_type": "markdown",
      "metadata": {},
      "source": [
        "Note: hard to tell int and str apart when we print!\n",
        "\n",
        "## Explicit Type Conversions"
      ]
    },
    {
      "cell_type": "code",
      "metadata": {},
      "source": [
        "#| echo: true\n",
        "str_num = \"3.5\"\n",
        "float_num = float(str_num)  # Converting string to float\n",
        "print(float_num)  # Output will be 3.5\n",
        "print(type(float_num))  # Output will be <class 'float'>"
      ],
      "execution_count": null,
      "outputs": []
    },
    {
      "cell_type": "markdown",
      "metadata": {},
      "source": [
        "Note:  this only works if our string is \"compatible\". Try `float(\"asd\")`!\n",
        "\n",
        "## Coding practice 1\n",
        "We want to write a countdown bot.\n",
        "\n",
        "The bot should print the numbers 10 to 0 in reverse order.\n",
        "\n",
        "## Coding practice 2\n",
        "Your boss wants you to write a countdown bot without a manually defined list.\n",
        "\n",
        "Hint: your boss suggests using `range()` with three *arguments*.\n",
        "\n",
        "## Coding practice 3: Using a new method\n",
        "Your boss wants you to write a countdown bot without a manually defined list and with only one argument passed to `range()`.\n",
        "\n",
        "You should use `range(11)` and a new function, `reversed()`\n",
        "\n",
        "Hint: `reversed([1, 2, 3]) gives you the list [3, 2, 1]`\n",
        "\n",
        "\n",
        "## Coding practice 4: code completion\n",
        "\n",
        "- We want to build a simple restaurant recommender to help\n",
        "people in a small town pick between two restaurants\n",
        "  - a restaurant with spicy meat dishes called \"Spicy Meat Land\"\n",
        "  - a restaurant with a variety of non-spicy and vegetarian friendly options called \"Many Options World\".\n",
        "\n",
        "Assume we get user input in two variables like so:\n",
        "\n",
        "```{.python}\n",
        "likes_spicy = input(\"Do you like spicy food?\")\n",
        "eats_meat = input('Do you eat meat?')\n",
        "```\n",
        "\n",
        "How should we print out a recommendation?\n",
        "\n",
        "## Break\n",
        "See you in ten minutes!\n",
        "\n",
        "\n",
        "## Lecture 4-2 Agenda\n",
        "- Discuss coding practice?\n",
        "- Intro to recommendation systems\n",
        "\n",
        "## Questions about coding practice?\n",
        "\n",
        "- Countdown bot\n",
        "- Food suggestion\n",
        "\n",
        "## Intro to recommendation\n",
        "\n",
        "Recommender systems -- often called \"RecSys\" -- are everywhere. \n",
        "\n",
        "- Netflix\n",
        "- Youtube\n",
        "- Amazon\n",
        "- TikTok (one huge recsys!)\n",
        "\n",
        "We'll use recommender systems as our running example for a bit.\n",
        "\n",
        "## Concepts we'll continue to explore\n",
        "We'll learn more about loops, integers and floats, performing calculations, using variables, operators, and more.\n",
        "\n",
        "We'll also talk about files.\n",
        "\n",
        "We'll learn the \"accumulator\" pattern\n",
        "\n",
        "## Very basic recsys\n",
        "One easy way to recommend things is find the most popular thing\n",
        "- Which movie had the most sales or most reviews\n",
        "- Which website gets the most traffic\n",
        "- Which post got the most likes\n",
        "\n",
        "## Advanced recsys\n",
        "Let's look at the history of every movie you've ever watched... and every movie everyone else has ever watched... and find all the connections to give you the perfect recommendation\n",
        "\n",
        "## {background-image=\"https://i.kym-cdn.com/entries/icons/original/000/022/524/pepe_silvia_meme_banner.jpg\"}\n",
        "\n",
        "\n",
        "## In this course\n",
        "If you want to, you can get really deep on the mathematics of recommendation! We'll just get a little taste in this course, however.\n",
        "\n",
        "You might be interested to know however, that often times the \"basic\" approach -- which is close to what we'll implement today, is actually quite good.\n",
        "\n",
        "## RecSys-like tasks in various domains\n",
        "RecSys might seem mostly relevant to people who want \"tech\" jobs\n",
        "\n",
        "But the core task of recsys: use what I like and what everybody else likes to match some content to me is broadly applicable\n",
        "\n",
        "Polling and voting can be modelled as recsys problem (\"Top 10 candidates for you!\")\n",
        "\n",
        "Recommendation can be made subject to constraints -- suggest me something fun to do with minimal externalities.\n",
        "\n",
        "Think about how this might be relevant to you! We'll come back to it.\n",
        "\n",
        "## Ethical questions\n",
        "\n",
        "- Does clicking or like something necessarily mean that I want to see more similar content?\n",
        "- Can anyone think of example cases in which case the basic logic of recsys could cause problems?\n",
        "\n",
        "## Example: Most popular coffee\n",
        "What's the most popular place to get coffee at SFU?\n",
        "- Starbucks?\n",
        "- Tim Hortons?\n",
        "- Renaissance Coffee?\n",
        "\n",
        "(Seriously: I want to know!)\n",
        "\n",
        "## Approach: counting votes\n",
        "We'll start by writing a Python script\n",
        "that will ask five different people for their favorite coffee. \n",
        "\n",
        "Then we'll print out the number of votes each option received.\n",
        "\n",
        "## Counting"
      ]
    },
    {
      "cell_type": "code",
      "metadata": {},
      "source": [
        "#| echo: true\n",
        "# This program should get input 5 times\n",
        "# Each time, the program should ask users\n",
        "# for report their favorite place to get coffee\n",
        "# For this version, use a fixed set of options"
      ],
      "execution_count": null,
      "outputs": []
    },
    {
      "cell_type": "markdown",
      "metadata": {},
      "source": [
        "## Building up our code: part 1"
      ]
    },
    {
      "cell_type": "code",
      "metadata": {},
      "source": [
        "#| echo: true\n",
        "# Store votes for starbucks in a variable. \n",
        "# the variable starts at 0.\n",
        "starbucks_votes = 0\n",
        "\n",
        "# Get user input\n",
        "# choice = input(\"What's your favorite place to get coffee?\")\n",
        "\n",
        "# placeholder answer for testing\n",
        "choice = \"starbucks\"\n",
        "\n",
        "# if the answers was starbucks, add one vote\n",
        "if choice.lower() == \"starbucks\":\n",
        "    starbucks_votes = starbucks_votes + 1\n",
        "\n",
        "print(starbucks_votes)"
      ],
      "execution_count": null,
      "outputs": []
    },
    {
      "cell_type": "markdown",
      "metadata": {},
      "source": [
        "## Tactic: Hard code your input until the last minute\n",
        "\n",
        "- If you have to type in an input every time, it may slow down your coding\n",
        "- Try setting `choice = \"something\"`\n",
        "- Finish all your code\n",
        "- Then change it to `choice = input()` and verify it works\n",
        "\n",
        "## Next steps\n",
        "How would we add another coffee shop?\n",
        "\n",
        "Let's start with Tim Hortons.\n",
        "\n",
        "## Building up our code: part 2"
      ]
    },
    {
      "cell_type": "code",
      "metadata": {},
      "source": [
        "#| echo: true\n",
        "# Store votes for starbucks in a variable. \n",
        "# the variable starts at 0.\n",
        "starbucks_votes = 0\n",
        "tims_votes = 0\n",
        "\n",
        "# Get user input\n",
        "# choice = input(\"What's your favorite place to get coffee?\")\n",
        "choice = \"starbucks\"\n",
        "\n",
        "# if the answers was starbucks, add one vote\n",
        "if choice.lower() == \"starbucks\":\n",
        "    starbucks_votes = starbucks_votes + 1\n",
        "elif choice.lower() == \"tim hortons\":\n",
        "    tims_votes = tims_votes + 1\n",
        "\n",
        "print(starbucks_votes)\n",
        "print(tims_votes)"
      ],
      "execution_count": null,
      "outputs": []
    },
    {
      "cell_type": "markdown",
      "metadata": {},
      "source": [
        "## Live code this together!\n",
        "\n",
        "## One answer\n",
        "\n",
        "```{.python}\n",
        "# This program should get input 5 times\n",
        "# Each time, the program should ask users\n",
        "# for report their favorite place to get coffee\n",
        "# For this version, use a fixed set of options\n",
        "\n",
        "# Initialize vote counts for each coffee place to 0\n",
        "starbucks_votes = 0\n",
        "tims_votes = 0\n",
        "other_votes = 0\n",
        "\n",
        "# Loop 5 times to get 5 different inputs\n",
        "for i in range(5):\n",
        "    # Display the options to the user\n",
        "    print(\"Options: Starbucks, Tim Hortons, Other\")\n",
        "    \n",
        "    # Get user input\n",
        "    choice = input(\"What's your favorite place to get coffee? \")\n",
        "\n",
        "    # Update vote counts based on user input\n",
        "    if choice.lower() == \"starbucks\":\n",
        "        starbucks_votes += 1\n",
        "    elif choice.lower() == \"tim hortons\":\n",
        "        tims_votes += 1\n",
        "    else:\n",
        "        other_votes += 1\n",
        "\n",
        "# Display the final vote counts\n",
        "print(\"Vote Counts:\")\n",
        "print(\"Starbucks:\", starbucks_votes)\n",
        "print(\"Tim Hortons:\", tims_votes)\n",
        "print(\"Other:\", other_votes)\n",
        "```\n",
        "\n",
        "## What if we want to use string concatenation\n",
        "\n",
        "`\"Starbucks\" + starbucks_votes`\n",
        "\n",
        "Does this work?\n",
        "\n",
        "## Using string concatenation: we have to convert"
      ]
    },
    {
      "cell_type": "code",
      "metadata": {},
      "source": [
        "#| echo: true\n",
        "starbucks_votes = 15\n",
        "tims_votes = 30\n",
        "other_votes = 5\n",
        "print(\"Starbucks:\" + str(starbucks_votes))\n",
        "print(\"Tim Hortons:\" + str(tims_votes))\n",
        "print(\"Other:\" + str(other_votes))"
      ],
      "execution_count": null,
      "outputs": []
    },
    {
      "cell_type": "markdown",
      "metadata": {},
      "source": [
        "## Percentages\n",
        "\n",
        "How would we calculate the percentage of votes held by each options?\n",
        "\n",
        "## Percentages\n",
        "\n",
        "To calculate the percentage of votes held by each option, we need to divide the number of votes for each option by the total number of votes and then multiply by 100\n",
        "\n",
        "(Note: this is an algorithm: it's the algorithm for calculating a percentage)\n",
        "\n",
        "## Percentage example:\n"
      ]
    },
    {
      "cell_type": "code",
      "metadata": {},
      "source": [
        "#| echo: true\n",
        "\n",
        "# imagine we polled 50 people\n",
        "starbucks_votes = 15\n",
        "tims_votes = 30\n",
        "other_votes = 5\n",
        "# Calculate the total number of votes\n",
        "total_votes = starbucks_votes + tims_votes + other_votes\n",
        "# Calculate the percentage of votes for each option\n",
        "if total_votes > 0:\n",
        "    starbucks_percentage = (starbucks_votes / total_votes) * 100\n",
        "    tims_percentage = (tims_votes / total_votes) * 100\n",
        "    other_percentage = (other_votes / total_votes) * 100\n",
        "\n",
        "    # Display the final vote counts and percentages\n",
        "    print(\"Vote Counts and percentages:\")\n",
        "    print(\"Starbucks: \" + str(starbucks_votes) + \" (\" + str(starbucks_votes / total_votes * 100) + \")\")\n",
        "    print(\"Tim Hortons: \" + str(tims_votes) + \" (\" + str(tims_votes / total_votes * 100) + \")\")\n",
        "    print(\"Other: \" + str(other_votes) + \" (\" + str(other_votes / total_votes * 100) + \")\")\n",
        "else:\n",
        "    print(\"No votes were cast.\")"
      ],
      "execution_count": null,
      "outputs": []
    },
    {
      "cell_type": "markdown",
      "metadata": {},
      "source": [
        "## Tactic: work with a fixed input\n",
        "Note that in the previous example, I once again\n",
        "set starbucks_votes, etc to fixed integers. \n",
        "\n",
        "This way I can test really quickly without having to re-collect inputs.\n",
        "\n",
        "## Coding patterns used here\n",
        "\n",
        "- Work with a fixed input\n",
        "- Checking `if total_votes > 0:` for robustness\n",
        "- Using parentheses to make code readable\n",
        "\n",
        "## Preview: f strings\n",
        "\n",
        "- Our final print out with the vote counts AND percentages got a little clunky\n",
        "- We broke our 100 characters per line rule!\n",
        "\n",
        "- Python has a nice, but complicated way to handle this. \n",
        "- We'll preview it now, but you\n",
        "don't have to use it unless you want to\n",
        "\n",
        "## How to use f strings\n",
        "\n",
        "Recipe: \n",
        "- `f\"Variable 1 is {variable_name1}\"`\n",
        "- `f\"Variable 2 with two decimal places is {variable_name2:.2f}\"`\n",
        "- `{variable_name1}` says look for a variable named variable_name1 and fill in its values\n",
        "- `{variable_name:.2f}` says look for a variables named variable_name2 and print it as a float with 2 decimal places (.2 = two decimal places, f = float)"
      ]
    },
    {
      "cell_type": "code",
      "metadata": {},
      "source": [
        "print(\"Vote Counts:\")\n",
        "print(f\"Starbucks: {starbucks_votes} ({starbucks_percentage:.2f}%)\")\n",
        "print(f\"Tim Hortons: {tims_votes} ({tims_percentage:.2f}%)\")\n",
        "print(f\"Other: {other_votes} ({other_percentage:.2f}%)\")"
      ],
      "execution_count": null,
      "outputs": []
    },
    {
      "cell_type": "markdown",
      "metadata": {},
      "source": [
        "## Preview: the string `format` method\n",
        "\n",
        "We can also define a string with `{}` or `{:.2f}` in it and call `.format()` to fill it in "
      ]
    },
    {
      "cell_type": "code",
      "metadata": {},
      "source": [
        "#| echo: true\n",
        "print(\"Starbucks %: {:.2f})\".format(starbucks_percentage))"
      ],
      "execution_count": null,
      "outputs": []
    },
    {
      "cell_type": "markdown",
      "metadata": {},
      "source": [
        "- Format string = no f in front of `\"`\"\n",
        "- Confusing and easy to miss\n",
        "\n",
        "\n",
        "## Review snippet: Four ways to print so far\n",
        "- using string concatenation\n",
        "- using print() with multiple arguments\n",
        "- using f strings\n",
        "- using .format()"
      ]
    },
    {
      "cell_type": "code",
      "metadata": {},
      "source": [
        "#| echo: true\n",
        "name = \"Alice\"\n",
        "# 1. Using string concatenation\n",
        "print(\"Hello, \" + name + \"!\")\n",
        "# 2. Using print() with multiple arguments\n",
        "print(\"Hello, \", name, \"!\", sep=\"\")\n",
        "# 3. Using f-strings\n",
        "print(f\"Hello, {name}!\")\n",
        "# 4. Using .format()\n",
        "print(\"Hello, {}!\".format(name))"
      ],
      "execution_count": null,
      "outputs": []
    },
    {
      "cell_type": "markdown",
      "metadata": {},
      "source": [
        "## See Summary Code Snippets for six ways to do string formatting\n",
        "\n",
        "You might also see old code using `%` operator to format strings. There's also template strings\n",
        "\n",
        "## Recommended approach\n",
        "\n",
        "- Consider trying a combination of concatenation, f strings, and .format().\n",
        "\n",
        "## New topic: Counting our iterations\n",
        "\n",
        "What if we want to tell each user how many iterations have passed so far?\n",
        "\n",
        "## Counting our iterations"
      ]
    },
    {
      "cell_type": "code",
      "metadata": {
        "output-location": "slide"
      },
      "source": [
        "#| echo: true\n",
        "for i in range(5):\n",
        "    print(\"You're user number \" + str(i))"
      ],
      "execution_count": null,
      "outputs": []
    },
    {
      "cell_type": "markdown",
      "metadata": {},
      "source": [
        "Any problems with this?\n",
        "\n",
        "## Counting our iterations"
      ]
    },
    {
      "cell_type": "code",
      "metadata": {},
      "source": [
        "#| echo: true\n",
        "for i in range(5):\n",
        "    print(\"You're user number \" + str(i+1))"
      ],
      "execution_count": null,
      "outputs": []
    },
    {
      "cell_type": "code",
      "metadata": {},
      "source": [
        "#| echo: true\n",
        "for i in range(1,6):\n",
        "    print(\"You're user number \" + str(i))"
      ],
      "execution_count": null,
      "outputs": []
    },
    {
      "cell_type": "markdown",
      "metadata": {},
      "source": [
        "## Concept: zero-indexing\n",
        "\n",
        "- Python is a zero indexed language\n",
        "- There's a whole Wikipedia page about Zero-based counting: \n",
        "- https://en.wikipedia.org/wiki/Zero-based_numbering\n",
        "- There's a year zero in the Buddhist and Hindu calendars\n",
        "- a zero floor in some buildings\n",
        "- athlete number zero (PNW Damian Lillard fans might be familiar)\n",
        "\n",
        "Some languages start counting at 1.\n",
        "\n",
        "\n",
        "## Review\n",
        "\n",
        "- How do we translate \"do the following things 100 times\" into Python?\n",
        "- How do we initialize a variable called `vote_count` with value 0?\n",
        "- How do we add a vote to `vote_count`?\n",
        "\n",
        "## Review\n",
        "- What are all the ways we know so far to change the types of variables?\n",
        "- When would a type conversion fail and cause our code to crash?\n",
        "\n",
        "\n",
        "## Practice Questions, Round 2. Question 1\n",
        "Look at the following code and answer the following questions."
      ]
    },
    {
      "cell_type": "code",
      "metadata": {},
      "source": [
        "#|echo: true\n",
        "item1 =  \"1\"\n",
        "list1 = [item1, \"2\", \"3\"]\n",
        "item4 = \"four\"\n",
        "list2 = [item4, \"five\", \"six\"]\n",
        "item7 = 7\n",
        "list3 = [item7, 8, 9]"
      ],
      "execution_count": null,
      "outputs": []
    },
    {
      "cell_type": "markdown",
      "metadata": {},
      "source": [
        "What is the data type of each of the following:\n",
        "\n",
        "- item1\n",
        "- item4\n",
        "- item7\n",
        "- list1\n",
        "\n",
        "## Question 2.\n",
        "How could we rewrite this code with a manually defined list?"
      ]
    },
    {
      "cell_type": "code",
      "metadata": {},
      "source": [
        "#|echo: true\n",
        "for i in [100, 101, 102]:\n",
        "    print(i)\n",
        "\n",
        "for j in [102, 101, 100]:\n",
        "    print(i)"
      ],
      "execution_count": null,
      "outputs": []
    },
    {
      "cell_type": "markdown",
      "metadata": {},
      "source": [
        "## Question 3\n",
        "Consider the following code. What will happen if you paste it into an empty .py file and try to run?\n",
        "\n",
        "Can you make one edit to each line to make it print out \"Your score is 20\"?\n",
        "\n",
        "```{.python}\n",
        "#| echo: true\n",
        "votes = 10\n",
        "print(\"The total number of votes is \" + score)\n",
        "```\n",
        "\n",
        "\n",
        "## Question 4\n",
        "Assume your friend wrote some code to get numberic input from a user. What might you do to process that input, just to be safe?\n",
        "\n",
        "## Question 5\n",
        "What are two data types for numbers? Describe how they are different.\n",
        "\n",
        "## Question 6\n",
        "What function could you use to \n",
        "\n",
        "- get the number of elements in a list\n",
        "- to iterate from some start number up until some stop number\n",
        "- to flip the order of a list\n",
        "\n",
        "## Question 7\n",
        "What will this code output?\n",
        "```{.python}\n",
        "print(3 / 3)\n",
        "```\n"
      ]
    }
  ],
  "metadata": {
    "kernelspec": {
      "name": "python3",
      "language": "python",
      "display_name": "Python 3 (ipykernel)"
    }
  },
  "nbformat": 4,
  "nbformat_minor": 4
}